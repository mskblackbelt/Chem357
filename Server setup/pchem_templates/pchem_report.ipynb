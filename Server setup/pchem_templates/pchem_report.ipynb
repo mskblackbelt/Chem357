{
  "cells": [
    {
      "cell_type": "markdown",
      "id": "eb3170ab",
      "metadata": {},
      "source": [
        "---\n",
        "title: Document title\n",
        "authors:\n",
        "  - name: Author Name\n",
        "    email: author.name@hunter.cuny.edu\n",
        "    affiliations:\n",
        "      - ror: 00g2xk477\n",
        "      - institution: CUNY – Hunter College\n",
        "      - department: Chemistry\n",
        "date: YYYY-MM-DD\n",
        "numbering:\n",
        "  heading_2: true\n",
        "  heading_3: true\n",
        "---"
      ]
    },
    {
      "cell_type": "markdown",
      "id": "c60ed158",
      "metadata": {},
      "source": [
        "Edit the contents of the title block above. Not all of the listed information is necessary.\n",
        "Be sure to rename your file to reflect the following convention before submitting for grading.  \n",
        "*author-initials_title.ipynb*  \n",
        "For example:  \n",
        "*DW_python-intro.ipynb*  \n",
        "Delete any cells in this template that you aren't using before submission. "
      ]
    },
    {
      "cell_type": "markdown",
      "id": "a0d1ba80",
      "metadata": {},
      "source": ["## Purpose"]
    },
    {
      "cell_type": "markdown",
      "id": "3b0b7385",
      "metadata": {},
      "source": ["State the purpose of the notebook or lab."]
    },
    {
      "cell_type": "markdown",
      "id": "dadc9502",
      "metadata": {},
      "source": [
        "## Work In Progress - next steps and improvements\n",
        "Use this section only if the notebook is not final.\n",
        "\n",
        "Notable TODOs:\n",
        "- todo 1;\n",
        "- todo 2;\n",
        "- todo 3."
      ]
    },
    {
      "cell_type": "markdown",
      "id": "233386c3",
      "metadata": {},
      "source": [
        "## Setup\n",
        "\n",
        "### Library import\n",
        "We import all the required Python libraries"
      ]
    },
    {
      "cell_type": "code",
      "execution_count": null,
      "id": "d3c7c780",
      "metadata": {},
      "outputs": [],
      "source": [
        "# File handling\n",
        "from pathlib import Path\n",
        "# Progress bars (wrapper for iterables)\n",
        "from tqdm.notebook import tqdm\n",
        "\n",
        "# Data manipulation\n",
        "import numpy as np\n",
        "import scipy as sp\n",
        "import xarray as xr\n",
        "\n",
        "# Visualizations\n",
        "import matplotlib as mpl\n",
        "import matplotlib.pyplot as plt\n",
        "%matplotlib inline\n",
        "plt.style.use('seaborn-v0_8-notebook')\n",
        "mpl.rcParams['axes.spines.right'] = False\n",
        "mpl.rcParams['axes.spines.top'] = False"
      ]
    },
    {
      "cell_type": "markdown",
      "id": "36c77f13",
      "metadata": {
        "tags": []
      },
      "source": ["## Parameter definition"]
    },
    {
      "cell_type": "markdown",
      "id": "39da40b7",
      "metadata": {},
      "source": [
        "We set all relevant parameters for our notebook. By convention, parameters are uppercase, while all the \n",
        "other variables follow Python's guidelines."
      ]
    },
    {
      "cell_type": "markdown",
      "id": "00cf3e79",
      "metadata": {
        "tags": []
      },
      "source": ["## Data import"]
    },
    {
      "cell_type": "markdown",
      "id": "6302cc3f",
      "metadata": {},
      "source": ["We retrieve all the required data for the analysis."]
    },
    {
      "cell_type": "markdown",
      "id": "cb33da09",
      "metadata": {
        "tags": []
      },
      "source": ["## Data processing"]
    },
    {
      "cell_type": "markdown",
      "id": "20831996",
      "metadata": {},
      "source": [
        "Put here the core of the notebook. Feel free to further split this section into subsections."
      ]
    },
    {
      "cell_type": "markdown",
      "id": "93d7416d",
      "metadata": {},
      "source": ["## Results"]
    },
    {
      "cell_type": "markdown",
      "id": "7fd2b14a",
      "metadata": {},
      "source": ["Describe and comment the most important results."]
    },
    {
      "cell_type": "markdown",
      "id": "014d2072",
      "metadata": {},
      "source": ["## Suggested next steps"]
    },
    {
      "cell_type": "markdown",
      "id": "d3654c3c",
      "metadata": {},
      "source": [
        "State suggested next steps or future work based on the work in this notebook."
      ]
    },
    {
      "cell_type": "markdown",
      "id": "87bf6821",
      "metadata": {},
      "source": ["## References"]
    },
    {
      "cell_type": "markdown",
      "id": "29f99db4",
      "metadata": {},
      "source": [
        "We report here relevant references:\n",
        "1. author1, article1, journal1, year1, url1\n",
        "2. author2, article2, journal2, year2, url2"
      ]
    }
  ],
  "metadata": {
    "kernelspec": {
      "display_name": "Python (PChem Lab)",
      "language": "python",
      "name": "pchem2"
    },
    "language_info": {
      "codemirror_mode": {
        "name": "ipython",
        "version": 3
      },
      "file_extension": ".py",
      "mimetype": "text/x-python",
      "name": "python",
      "nbconvert_exporter": "python",
      "pygments_lexer": "ipython3",
      "version": "3.10.13"
    }
  },
  "nbformat": 4,
  "nbformat_minor": 5
}
